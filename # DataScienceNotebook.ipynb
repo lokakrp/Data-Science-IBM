{
 "cells": [
  {
   "cell_type": "markdown",
   "id": "73d96bb8-5a7c-46b3-8bb0-d3fcbdfa0f2b",
   "metadata": {},
   "source": [
    "# Data Science Tools and Ecosystem\n"
   ]
  },
  {
   "cell_type": "markdown",
   "id": "6f3bb939-07ca-4569-959b-9692a32ab50f",
   "metadata": {},
   "source": [
    "## Introduction\n",
    "\n",
    "In this notebook, Data Science Tools and Ecosystem are summarized.\n"
   ]
  },
  {
   "cell_type": "markdown",
   "id": "eff2e364-feca-4f08-ba8d-59577a01fe0c",
   "metadata": {},
   "source": [
    "## Data Science Languages\n",
    "\n",
    "Some of the popular languages that Data Scientists use are:\n",
    "\n",
    "1. Python\n",
    "2. R\n",
    "3. SQL\n",
    "4. Julia"
   ]
  },
  {
   "cell_type": "markdown",
   "id": "11dcba88-aa8a-45b4-b4e2-4183f99908d3",
   "metadata": {},
   "source": [
    "## Data Science Libraries\n",
    "\n",
    "Some of the commonly used libraries used by Data Scientists include:\n",
    "\n",
    "1. NumPy\n",
    "2. Pandas\n",
    "3. Matplotlib\n",
    "4. Scikit-learn\n"
   ]
  },
  {
   "cell_type": "markdown",
   "id": "38e7a795-e9ba-4452-a217-96ac34664cd4",
   "metadata": {},
   "source": [
    "## Data Science Tools\n",
    "\n",
    "| Data Science Tools |\n",
    "|--------------------|\n",
    "| Jupyter            |\n",
    "| RStudio            |\n",
    "| Apache Zeppelin    |\n",
    "\n"
   ]
  },
  {
   "cell_type": "markdown",
   "id": "3bcb998d-5edc-4fd6-9c7c-eac717a4cdb6",
   "metadata": {},
   "source": [
    "### Arithmetic Expressions\n",
    "\n",
    "Below are a few examples of evaluating arithmetic expressions in Python."
   ]
  },
  {
   "cell_type": "code",
   "execution_count": 8,
   "id": "a966808e-aaaa-444a-8727-7d783d347e2e",
   "metadata": {},
   "outputs": [],
   "source": [
    "# This is a simple arithmetic expression to multiply then add integers\n",
    "(3 * 4) + 5"
   ]
  },
  {
   "cell_type": "code",
   "execution_count": null,
   "id": "bc5e7460-eb7f-48e6-8117-dc0e90d7b697",
   "metadata": {},
   "outputs": [],
   "source": [
    "# This will convert 200 minutes to hours by dividing by 60\n",
    "hours = 200 / 60"
   ]
  },
  {
   "cell_type": "markdown",
   "id": "f8efe820-1f70-4466-81b9-8e403c691c2b",
   "metadata": {},
   "source": [
    "**Objectives:**\n",
    "\n",
    "- List popular languages for Data Science\n",
    "- List commonly used Data Science libraries\n",
    "- List open-source tools used in Data Science\n",
    "- Show how to do basic arithmetic expressions in Python"
   ]
  },
  {
   "cell_type": "markdown",
   "id": "d8ac6c9a-ca4b-4717-839f-61c394fab00e",
   "metadata": {},
   "source": [
    "## Author\n",
    "\n",
    "Lokanatha\n"
   ]
  },
  {
   "cell_type": "markdown",
   "id": "005f2fce-a491-4d6b-9334-9827b40a361a",
   "metadata": {},
   "source": [
    "## GitHub Link\n",
    "\n",
    "The notebook is shared at [here](https://github.com/lokakrp/Data-Science-IBM)!\n"
   ]
  },
  {
   "cell_type": "code",
   "execution_count": null,
   "id": "059290a1-06ef-441d-9e66-8cc72975548c",
   "metadata": {},
   "outputs": [],
   "source": []
  }
 ],
 "metadata": {
  "kernelspec": {
   "display_name": "Python 3 (ipykernel)",
   "language": "python",
   "name": "python3"
  },
  "language_info": {
   "codemirror_mode": {
    "name": "ipython",
    "version": 3
   },
   "file_extension": ".py",
   "mimetype": "text/x-python",
   "name": "python",
   "nbconvert_exporter": "python",
   "pygments_lexer": "ipython3",
   "version": "3.12.3"
  }
 },
 "nbformat": 4,
 "nbformat_minor": 5
}
